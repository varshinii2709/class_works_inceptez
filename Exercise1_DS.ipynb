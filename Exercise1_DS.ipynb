{
 "cells": [
  {
   "cell_type": "markdown",
   "metadata": {},
   "source": [
    "### The questions for the exercises are given above the cells and the expected output is given below the cell. Please type the code inserting a new cell below the question because if you run the expected output cell the output would vanish! Happy learning! "
   ]
  },
  {
   "cell_type": "markdown",
   "metadata": {},
   "source": [
    "## 1. Write a Python program to count the number of even and odd numbers from a series of numbers."
   ]
  },
  {
   "cell_type": "code",
   "execution_count": 1,
   "metadata": {},
   "outputs": [
    {
     "name": "stdout",
     "output_type": "stream",
     "text": [
      "Number of even numbers: 4\n",
      "Number of odd numbers: 5\n"
     ]
    }
   ],
   "source": [
    "e_count = 0\n",
    "o_count = 0\n",
    "a = [3,10,12,18,4,9,17,1,25]\n",
    "for num in a :\n",
    "  if(num%2==0):\n",
    "        e_count = e_count + 1\n",
    "  else:\n",
    "        o_count = o_count + 1\n",
    "print(\"Number of even numbers:\",e_count)\n",
    "print(\"Number of odd numbers:\",o_count)"
   ]
  },
  {
   "cell_type": "code",
   "execution_count": 4,
   "metadata": {},
   "outputs": [
    {
     "name": "stdout",
     "output_type": "stream",
     "text": [
      "Number of even numbers : 4\n",
      "Number of odd numbers : 5\n"
     ]
    }
   ],
   "source": []
  },
  {
   "cell_type": "markdown",
   "metadata": {},
   "source": [
    "## 2. Write a Python program to find numbers between 100 and 400 (both included) where each digit of a number is an even number. The numbers obtained should be printed in a comma-separated sequence."
   ]
  },
  {
   "cell_type": "code",
   "execution_count": 2,
   "metadata": {},
   "outputs": [
    {
     "name": "stdout",
     "output_type": "stream",
     "text": [
      "200,202,204,206,208,220,222,224,226,228,240,242,244,246,248,260,262,264,266,268,280,282,284,286,288,400\n"
     ]
    }
   ],
   "source": [
    "a = []\n",
    "for num in range(100, 401):\n",
    "    all_even = all(int(digit) % 2 == 0 for digit in str(num))\n",
    "    if all_even:\n",
    "        a.append(str(num))\n",
    "\n",
    "a_str = ','.join(a)\n",
    "print(a_str)\n"
   ]
  },
  {
   "cell_type": "markdown",
   "metadata": {},
   "source": [
    "## 3. Write a Python program to calculate a dog's age in dog's years. Go to the editor\n",
    "Note: For the first two years, a dog year is equal to 10.5 human years. After that, each dog year equals 4 human years."
   ]
  },
  {
   "cell_type": "code",
   "execution_count": 4,
   "metadata": {},
   "outputs": [
    {
     "name": "stdout",
     "output_type": "stream",
     "text": [
      "Enter the dog's age in human years: 20\n",
      "The dog's age in dog's years is 93.0\n"
     ]
    }
   ],
   "source": [
    "dog_age_in_human_years = int(input(\"Enter the dog's age in human years: \"))\n",
    "\n",
    "if dog_age_in_human_years <= 2:\n",
    "    dog_age_in_dog_years = dog_age_in_human_years * 10.5\n",
    "else:\n",
    "    dog_age_in_dog_years = 2 * 10.5 + (dog_age_in_human_years - 2) * 4\n",
    "\n",
    "\n",
    "print(\"The dog's age in dog's years is\", (dog_age_in_dog_years))"
   ]
  },
  {
   "cell_type": "markdown",
   "metadata": {},
   "source": [
    "## 4. Write a Python function to find the Max of three numbers."
   ]
  },
  {
   "cell_type": "code",
   "execution_count": 1,
   "metadata": {},
   "outputs": [
    {
     "name": "stdout",
     "output_type": "stream",
     "text": [
      "The three numbers are: (3, 6, -5)\n",
      "6\n"
     ]
    }
   ],
   "source": [
    "def find_max_of_three_numbers(a, b, c):\n",
    "    max_value = max(a, b, c)\n",
    "    return max_value\n",
    "\n",
    "numbers = (3, 6, -5)\n",
    "max_value = find_max_of_three_numbers(*numbers)\n",
    "print(\"The three numbers are:\",numbers)\n",
    "print(max_value)"
   ]
  },
  {
   "cell_type": "markdown",
   "metadata": {},
   "source": [
    "## 5. Write a Python function that takes a number as a parameter and check the number is prime or not."
   ]
  },
  {
   "cell_type": "code",
   "execution_count": null,
   "metadata": {},
   "outputs": [],
   "source": [
    "def is_prime(number):\n",
    "    if number <= 1:\n",
    "        return False\n",
    "    if number <= 3:\n",
    "        return True\n",
    "    if number % 2 == 0 or number % 3 == 0:\n",
    "        return False\n",
    "\n",
    "    i = 5\n",
    "    while i * i <= number:\n",
    "        if number % i == 0 or number % (i + 2) == 0:\n",
    "            return False\n",
    "        i += 6\n",
    "\n",
    "    return True\n",
    "\n",
    "a=int(input(\"The number is: \"))\n",
    "a = is_prime(a)\n",
    "print(a)\n"
   ]
  },
  {
   "cell_type": "code",
   "execution_count": 11,
   "metadata": {},
   "outputs": [
    {
     "name": "stdout",
     "output_type": "stream",
     "text": [
      "The number is: 9\n",
      "False\n"
     ]
    }
   ],
   "source": []
  },
  {
   "cell_type": "markdown",
   "metadata": {},
   "source": [
    "## 6. Write a Python function that accepts a string and calculate the number of upper case letters and lower case letters. Go to the editor\n"
   ]
  },
  {
   "cell_type": "code",
   "execution_count": 2,
   "metadata": {},
   "outputs": [
    {
     "name": "stdout",
     "output_type": "stream",
     "text": [
      "Original String: Inceptz is One of The BeSt Places TO LEarn DataSciEnce\n",
      "No. of Upper case characters: 13\n",
      "No. of Lower case characters: 32\n"
     ]
    }
   ],
   "source": [
    "def count_upper_and_lower_case_letters(input_string):\n",
    "    upper_case_count = 0\n",
    "    lower_case_count = 0\n",
    "\n",
    "    for char in input_string:\n",
    "        if char.isupper():\n",
    "            upper_case_count += 1\n",
    "        elif char.islower():\n",
    "            lower_case_count += 1\n",
    "\n",
    "    return upper_case_count, lower_case_count\n",
    "input_string = \"Inceptz is One of The BeSt Places TO LEarn DataSciEnce\"\n",
    "upper_count, lower_count = count_upper_and_lower_case_letters(input_string)\n",
    "\n",
    "print(\"Original String:\", input_string)\n",
    "print(\"No. of Upper case characters:\", upper_count)\n",
    "print(\"No. of Lower case characters:\", lower_count)"
   ]
  },
  {
   "cell_type": "markdown",
   "metadata": {},
   "source": [
    "## 7. Write a Python program to reverse a string. "
   ]
  },
  {
   "cell_type": "code",
   "execution_count": 3,
   "metadata": {},
   "outputs": [
    {
     "name": "stdout",
     "output_type": "stream",
     "text": [
      "The original string: 1234abcd\n",
      "The reversed string: dcba4321\n"
     ]
    }
   ],
   "source": [
    "def reverse_string(input_string):\n",
    "    return input_string[::-1]\n",
    "\n",
    "original_string = \"1234abcd\"\n",
    "reversed_string = reverse_string(original_string)\n",
    "\n",
    "print(\"The original string:\", original_string)\n",
    "print(\"The reversed string:\", reversed_string)\n"
   ]
  },
  {
   "cell_type": "markdown",
   "metadata": {},
   "source": [
    "## 8. Write a Python program to find  the greatest common divisor (gcd) of two integers."
   ]
  },
  {
   "cell_type": "code",
   "execution_count": 5,
   "metadata": {},
   "outputs": [
    {
     "name": "stdout",
     "output_type": "stream",
     "text": [
      "The two number are:  (12, 14)\n",
      "The GCD of the numbers are:  2\n"
     ]
    }
   ],
   "source": [
    "import math\n",
    "\n",
    "Number1 = 12\n",
    "number2 = 14\n",
    "print(\"The two number are: \",(Number1,number2))\n",
    "gcd = math.gcd(Number1, number2)\n",
    "print(\"The GCD of the numbers are: \",gcd)\n",
    "\n",
    "\n"
   ]
  },
  {
   "cell_type": "code",
   "execution_count": null,
   "metadata": {},
   "outputs": [],
   "source": []
  }
 ],
 "metadata": {
  "kernelspec": {
   "display_name": "Python 3 (ipykernel)",
   "language": "python",
   "name": "python3"
  },
  "language_info": {
   "codemirror_mode": {
    "name": "ipython",
    "version": 3
   },
   "file_extension": ".py",
   "mimetype": "text/x-python",
   "name": "python",
   "nbconvert_exporter": "python",
   "pygments_lexer": "ipython3",
   "version": "3.10.9"
  }
 },
 "nbformat": 4,
 "nbformat_minor": 4
}
